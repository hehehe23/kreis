{
 "cells": [
  {
   "cell_type": "code",
   "execution_count": 1,
   "metadata": {},
   "outputs": [],
   "source": [
    "%matplotlib inline\n",
    "import matplotlib.pyplot as plt\n",
    "import math\n",
    "import numpy as np\n",
    "import itertools\n",
    "import random\n",
    "import string"
   ]
  },
  {
   "cell_type": "code",
   "execution_count": 2,
   "metadata": {},
   "outputs": [],
   "source": [
    "list1 = ['blue', 'navy', 'green', 'white', 'grey', 'purple', 'yellow', 'c', 'deeppink', 'red', 'lime', 'teal', 'orange', 'steelblue', 'pink']\n",
    "\n",
    "\n",
    "def plo(d):\n",
    "    \n",
    "    rand = random.choice(list1)\n",
    "    rand2 = random.choice(list1)\n",
    "\n",
    "    def circle(x, y, r):\n",
    "        result = plt.Circle((x, y), r, color=rand, fill = True)\n",
    "        return result\n",
    "\n",
    "    def point(x, y, r, deg):\n",
    "        rang = np.deg2rad(deg)\n",
    "        x1 = x + r * np.sin(rang)\n",
    "        y1 = y + r * np.cos(rang)\n",
    "        return (x1, y1)\n",
    "    \n",
    "    \n",
    "    fig, ax = plt.subplots(1, 1, figsize = (3, 3))\n",
    "    ax.set_aspect('equal', adjustable = 'datalim')\n",
    "    ax.axes.get_xaxis().set_visible(False)\n",
    "    ax.axes.get_yaxis().set_visible(False)\n",
    "\n",
    "    x1, y1, r = 180, 150, 10\n",
    "    ax.add_patch(circle(x1, y1, r))\n",
    "\n",
    "    ax.set_facecolor(rand2)\n",
    "\n",
    "    a, b = point(x1, y1, r, d)\n",
    "    plt.plot(a, b,'ok')\n",
    "\n",
    "    return"
   ]
  },
  {
   "cell_type": "code",
   "execution_count": 3,
   "metadata": {},
   "outputs": [
    {
     "data": {
      "image/png": "[encoded data removed]",
      "text/plain": [
       "<Figure size 216x216 with 1 Axes>"
      ]
     },
     "metadata": {
      "needs_background": "light"
     },
     "output_type": "display_data"
    }
   ],
   "source": [
    "plo(0)"
   ]
  },
  {
   "cell_type": "code",
   "execution_count": 16,
   "metadata": {},
   "outputs": [],
   "source": [
    "def random_generator(size = 6, chars = string.ascii_uppercase + string.digits):\n",
    "    return ''.join(random.choice(chars) for x in range(size))\n",
    "\n",
    "def safe(c, sub_dic):\n",
    "    for i in range(20):\n",
    "        plo(i)\n",
    "        plt.savefig(sub_dic + '/20/' + c  + '{0}.jpg'.format(i))\n",
    "        plt.close()\n",
    "    \n",
    "    for i in range(20):\n",
    "        plo(i + 20)\n",
    "        plt.savefig(sub_dic + '/40/' + c  + '{0}.jpg'.format(i))\n",
    "        plt.close()\n",
    "\n",
    "    for i in range(20):\n",
    "        plo(i + 40)\n",
    "        plt.savefig(sub_dic + '/60/' + c  + '{0}.jpg'.format(i))\n",
    "        plt.close()\n",
    "\n",
    "    for i in range(20):\n",
    "        plo(i + 60)\n",
    "        plt.savefig(sub_dic + '/80/' + c  + '{0}.jpg'.format(i))\n",
    "        plt.close()\n",
    "\n",
    "    for i in range(20):\n",
    "        plo(i + 80)\n",
    "        plt.savefig(sub_dic + '/100/' + c  + '{0}.jpg'.format(i))\n",
    "        plt.close()\n",
    "\n",
    "    for i in range(20):\n",
    "        plo(i + 100)\n",
    "        plt.savefig(sub_dic + '/120/' + c  + '{0}.jpg'.format(i))\n",
    "        plt.close()\n",
    "\n",
    "    for i in range(20):\n",
    "        plo(i + 120)\n",
    "        plt.savefig(sub_dic + '/140/' + c  + '{0}.jpg'.format(i))\n",
    "        plt.close()\n",
    "\n",
    "    for i in range(20):\n",
    "        plo(i + 140)\n",
    "        plt.savefig(sub_dic + '/160/' + c  + '{0}.jpg'.format(i))\n",
    "        plt.close()\n",
    "\n",
    "    for i in range(20):\n",
    "        plo(i + 160)\n",
    "        plt.savefig(sub_dic + '/180/' + c  + '{0}.jpg'.format(i))\n",
    "        plt.close()\n",
    "\n",
    "    for i in range(20):\n",
    "        plo(i + 180)\n",
    "        plt.savefig(sub_dic + '/200/' + c  + '{0}.jpg'.format(i))\n",
    "        plt.close()\n",
    "\n",
    "    for i in range(20):\n",
    "        plo(i + 200)\n",
    "        plt.savefig(sub_dic + '/220/' + c  + '{0}.jpg'.format(i))\n",
    "        plt.close()\n",
    "\n",
    "    for i in range(20):\n",
    "        plo(i + 220)\n",
    "        plt.savefig(sub_dic + '/240/' + c  + '{0}.jpg'.format(i))\n",
    "        plt.close()\n",
    "\n",
    "    for i in range(20):\n",
    "        plo(i + 240)\n",
    "        plt.savefig(sub_dic + '/260/' + c  + '{0}.jpg'.format(i))\n",
    "        plt.close()\n",
    "\n",
    "    for i in range(20):\n",
    "        plo(i + 260)\n",
    "        plt.savefig(sub_dic + '/280/' + c  + '{0}.jpg'.format(i))\n",
    "        plt.close()\n",
    "\n",
    "    for i in range(20):\n",
    "        plo(i + 280)\n",
    "        plt.savefig(sub_dic + '/300/' + c  + '{0}.jpg'.format(i))\n",
    "        plt.close()\n",
    "\n",
    "    for i in range(20):\n",
    "        plo(i + 300)\n",
    "        plt.savefig(sub_dic + '/320/' + c  + '{0}.jpg'.format(i))\n",
    "        plt.close()\n",
    "\n",
    "    for i in range(20):\n",
    "        plo(i + 320)\n",
    "        plt.savefig(sub_dic + '/340/' + c  + '{0}.jpg'.format(i))\n",
    "        plt.close()\n",
    "\n",
    "    for i in range(20):\n",
    "        plo(i + 340)\n",
    "        plt.savefig(sub_dic + '/360/' + c  + '{0}.jpg'.format(i))\n",
    "        plt.close()\n",
    "        \n"
   ]
  },
  {
   "cell_type": "code",
   "execution_count": 17,
   "metadata": {},
   "outputs": [],
   "source": [
    "for co in range(20):\n",
    "    safe(random_generator(), 'data')"
   ]
  },
  {
   "cell_type": "code",
   "execution_count": null,
   "metadata": {},
   "outputs": [],
   "source": []
  }
 ],
 "metadata": {
  "kernelspec": {
   "display_name": "Python 3",
   "language": "python",
   "name": "python3"
  },
  "language_info": {
   "codemirror_mode": {
    "name": "ipython",
    "version": 3
   },
   "file_extension": ".py",
   "mimetype": "text/x-python",
   "name": "python",
   "nbconvert_exporter": "python",
   "pygments_lexer": "ipython3",
   "version": "3.7.9"
  }
 },
 "nbformat": 4,
 "nbformat_minor": 4
}
