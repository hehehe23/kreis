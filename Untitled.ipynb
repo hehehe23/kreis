{
 "cells": [
  {
   "cell_type": "code",
   "execution_count": 1,
   "metadata": {},
   "outputs": [],
   "source": [
    "%matplotlib inline\n",
    "import matplotlib.pyplot as plt\n",
    "import math\n",
    "import numpy as np"
   ]
  },
  {
   "cell_type": "code",
   "execution_count": 11,
   "metadata": {},
   "outputs": [
    {
     "data": {
      "image/png": "[encoded data removed]",
      "text/plain": [
       "<Figure size 216x216 with 1 Axes>"
      ]
     },
     "metadata": {
      "needs_background": "light"
     },
     "output_type": "display_data"
    }
   ],
   "source": [
    "\n",
    "def plo():\n",
    "    \n",
    "    def circle(x, y, r):\n",
    "        result = plt.Circle((x, y), r, color='green', fill = True)\n",
    "        return result\n",
    "\n",
    "    def rpoint(x, y, r, deg):\n",
    "        rang = np.deg2rad(deg)\n",
    "        x1 = x + r * np.sin(rang)\n",
    "        y1 = y + r * np.cos(rang)\n",
    "        return (x1, y1)\n",
    "    \n",
    "    \n",
    "    fig, ax = plt.subplots(1, 1, figsize = (3, 3))\n",
    "    ax.set_aspect('equal', adjustable = 'datalim')\n",
    "    ax.axes.get_xaxis().set_visible(False)\n",
    "    ax.axes.get_yaxis().set_visible(False)\n",
    "\n",
    "    x1, y1, r = 180, 150, 10\n",
    "    ax.add_patch(circle(x1, y1, r))\n",
    "    ax.set_facecolor('blue')\n",
    "    a, b = rpoint(x1, y1, r, 180)\n",
    "    plt.plot(a, b,'ok')\n",
    "    return\n",
    "\n",
    "\n",
    "plo()"
   ]
  },
  {
   "cell_type": "code",
   "execution_count": null,
   "metadata": {},
   "outputs": [],
   "source": []
  },
  {
   "cell_type": "code",
   "execution_count": null,
   "metadata": {},
   "outputs": [],
   "source": []
  },
  {
   "cell_type": "code",
   "execution_count": null,
   "metadata": {},
   "outputs": [],
   "source": []
  }
 ],
 "metadata": {
  "kernelspec": {
   "display_name": "Python 3",
   "language": "python",
   "name": "python3"
  },
  "language_info": {
   "codemirror_mode": {
    "name": "ipython",
    "version": 3
   },
   "file_extension": ".py",
   "mimetype": "text/x-python",
   "name": "python",
   "nbconvert_exporter": "python",
   "pygments_lexer": "ipython3",
   "version": "3.8.5"
  }
 },
 "nbformat": 4,
 "nbformat_minor": 4
}
